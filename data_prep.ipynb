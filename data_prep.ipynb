{
 "cells": [
  {
   "cell_type": "code",
   "execution_count": 1,
   "metadata": {
    "scrolled": true
   },
   "outputs": [],
   "source": [
    "import pandas as pd\n",
    "\n",
    "data = pd.read_csv('data/raw/nnapartment_more_info.csv')"
   ]
  },
  {
   "cell_type": "code",
   "execution_count": 2,
   "metadata": {},
   "outputs": [
    {
     "name": "stdout",
     "output_type": "stream",
     "text": [
      "<class 'pandas.core.frame.DataFrame'>\n",
      "RangeIndex: 499 entries, 0 to 498\n",
      "Data columns (total 11 columns):\n",
      " #   Column           Non-Null Count  Dtype  \n",
      "---  ------           --------------  -----  \n",
      " 0   rooms            499 non-null    object \n",
      " 1   area1            499 non-null    float64\n",
      " 2   area2            499 non-null    float64\n",
      " 3   area3            499 non-null    float64\n",
      " 4   district         499 non-null    object \n",
      " 5   floor            499 non-null    int64  \n",
      " 6   total_floors     499 non-null    int64  \n",
      " 7   building_type    499 non-null    object \n",
      " 8   year             462 non-null    float64\n",
      " 9   additional_info  499 non-null    object \n",
      " 10  price            499 non-null    int64  \n",
      "dtypes: float64(4), int64(3), object(4)\n",
      "memory usage: 43.0+ KB\n"
     ]
    }
   ],
   "source": [
    "data.info()"
   ]
  },
  {
   "cell_type": "code",
   "execution_count": 3,
   "metadata": {},
   "outputs": [],
   "source": [
    "data.dropna(inplace=True)"
   ]
  },
  {
   "cell_type": "code",
   "execution_count": 4,
   "metadata": {},
   "outputs": [],
   "source": [
    "data.drop_duplicates(inplace=True)"
   ]
  },
  {
   "cell_type": "code",
   "execution_count": 5,
   "metadata": {},
   "outputs": [
    {
     "data": {
      "text/plain": [
       "(394, 11)"
      ]
     },
     "execution_count": 5,
     "metadata": {},
     "output_type": "execute_result"
    }
   ],
   "source": [
    "data.shape"
   ]
  },
  {
   "cell_type": "code",
   "execution_count": 6,
   "metadata": {},
   "outputs": [],
   "source": [
    "cols = ['rooms', 'area1', 'area3', 'district', 'floor', 'total_floors',\n",
    "       'building_type', 'year', 'price']"
   ]
  },
  {
   "cell_type": "code",
   "execution_count": 7,
   "metadata": {},
   "outputs": [],
   "source": [
    "data = data[cols].copy()"
   ]
  },
  {
   "cell_type": "code",
   "execution_count": 8,
   "metadata": {},
   "outputs": [
    {
     "data": {
      "text/plain": [
       "rooms\n",
       "2.0    146\n",
       "1.0    135\n",
       "3.0     86\n",
       "0.8     15\n",
       "4.0     12\n",
       "Name: count, dtype: int64"
      ]
     },
     "execution_count": 8,
     "metadata": {},
     "output_type": "execute_result"
    }
   ],
   "source": [
    "data.rooms.replace('К','0.8').astype('float').value_counts()"
   ]
  },
  {
   "cell_type": "code",
   "execution_count": 9,
   "metadata": {},
   "outputs": [],
   "source": [
    "data['rooms_count'] = data.rooms.replace('К','0.8').astype('float')"
   ]
  },
  {
   "cell_type": "code",
   "execution_count": 10,
   "metadata": {},
   "outputs": [
    {
     "data": {
      "text/html": [
       "<div>\n",
       "<style scoped>\n",
       "    .dataframe tbody tr th:only-of-type {\n",
       "        vertical-align: middle;\n",
       "    }\n",
       "\n",
       "    .dataframe tbody tr th {\n",
       "        vertical-align: top;\n",
       "    }\n",
       "\n",
       "    .dataframe thead th {\n",
       "        text-align: right;\n",
       "    }\n",
       "</style>\n",
       "<table border=\"1\" class=\"dataframe\">\n",
       "  <thead>\n",
       "    <tr style=\"text-align: right;\">\n",
       "      <th></th>\n",
       "      <th>rooms</th>\n",
       "      <th>area1</th>\n",
       "      <th>area3</th>\n",
       "      <th>district</th>\n",
       "      <th>floor</th>\n",
       "      <th>total_floors</th>\n",
       "      <th>building_type</th>\n",
       "      <th>year</th>\n",
       "      <th>price</th>\n",
       "      <th>rooms_count</th>\n",
       "    </tr>\n",
       "  </thead>\n",
       "  <tbody>\n",
       "    <tr>\n",
       "      <th>1</th>\n",
       "      <td>2</td>\n",
       "      <td>44.0</td>\n",
       "      <td>6.0</td>\n",
       "      <td>Автозаводский район</td>\n",
       "      <td>4</td>\n",
       "      <td>4</td>\n",
       "      <td>кирпич</td>\n",
       "      <td>1961.0</td>\n",
       "      <td>4900000</td>\n",
       "      <td>2.0</td>\n",
       "    </tr>\n",
       "    <tr>\n",
       "      <th>2</th>\n",
       "      <td>2</td>\n",
       "      <td>32.0</td>\n",
       "      <td>6.8</td>\n",
       "      <td>Советский район</td>\n",
       "      <td>1</td>\n",
       "      <td>3</td>\n",
       "      <td>кирпич</td>\n",
       "      <td>1958.0</td>\n",
       "      <td>4000000</td>\n",
       "      <td>2.0</td>\n",
       "    </tr>\n",
       "    <tr>\n",
       "      <th>3</th>\n",
       "      <td>2</td>\n",
       "      <td>45.0</td>\n",
       "      <td>6.0</td>\n",
       "      <td>Канавинский район</td>\n",
       "      <td>2</td>\n",
       "      <td>5</td>\n",
       "      <td>кирпич</td>\n",
       "      <td>1972.0</td>\n",
       "      <td>4300000</td>\n",
       "      <td>2.0</td>\n",
       "    </tr>\n",
       "    <tr>\n",
       "      <th>4</th>\n",
       "      <td>1</td>\n",
       "      <td>30.8</td>\n",
       "      <td>5.8</td>\n",
       "      <td>Канавинский район</td>\n",
       "      <td>2</td>\n",
       "      <td>5</td>\n",
       "      <td>кирпич</td>\n",
       "      <td>1965.0</td>\n",
       "      <td>4200000</td>\n",
       "      <td>1.0</td>\n",
       "    </tr>\n",
       "    <tr>\n",
       "      <th>5</th>\n",
       "      <td>2</td>\n",
       "      <td>48.0</td>\n",
       "      <td>9.0</td>\n",
       "      <td>Московский район</td>\n",
       "      <td>5</td>\n",
       "      <td>10</td>\n",
       "      <td>панель</td>\n",
       "      <td>2016.0</td>\n",
       "      <td>7150000</td>\n",
       "      <td>2.0</td>\n",
       "    </tr>\n",
       "  </tbody>\n",
       "</table>\n",
       "</div>"
      ],
      "text/plain": [
       "  rooms  area1  area3             district  floor  total_floors building_type  \\\n",
       "1     2   44.0    6.0  Автозаводский район      4             4        кирпич   \n",
       "2     2   32.0    6.8      Советский район      1             3        кирпич   \n",
       "3     2   45.0    6.0    Канавинский район      2             5        кирпич   \n",
       "4     1   30.8    5.8    Канавинский район      2             5        кирпич   \n",
       "5     2   48.0    9.0     Московский район      5            10        панель   \n",
       "\n",
       "     year    price  rooms_count  \n",
       "1  1961.0  4900000          2.0  \n",
       "2  1958.0  4000000          2.0  \n",
       "3  1972.0  4300000          2.0  \n",
       "4  1965.0  4200000          1.0  \n",
       "5  2016.0  7150000          2.0  "
      ]
     },
     "execution_count": 10,
     "metadata": {},
     "output_type": "execute_result"
    }
   ],
   "source": [
    "data.head()"
   ]
  },
  {
   "cell_type": "code",
   "execution_count": 11,
   "metadata": {},
   "outputs": [
    {
     "data": {
      "text/plain": [
       "1      False\n",
       "2      False\n",
       "3       True\n",
       "4       True\n",
       "5       True\n",
       "       ...  \n",
       "489     True\n",
       "492     True\n",
       "493    False\n",
       "494     True\n",
       "495    False\n",
       "Length: 394, dtype: bool"
      ]
     },
     "execution_count": 11,
     "metadata": {},
     "output_type": "execute_result"
    }
   ],
   "source": [
    "(data.floor!=1)&(data.floor!=data.total_floors)"
   ]
  },
  {
   "cell_type": "code",
   "execution_count": 12,
   "metadata": {},
   "outputs": [],
   "source": [
    "data['no_first_no_last'] = (data.floor!=1)&(data.floor!=data.total_floors)"
   ]
  },
  {
   "cell_type": "code",
   "execution_count": 13,
   "metadata": {},
   "outputs": [
    {
     "data": {
      "text/plain": [
       "<Axes: >"
      ]
     },
     "execution_count": 13,
     "metadata": {},
     "output_type": "execute_result"
    },
    {
     "data": {
      "image/png": "[encoded data removed]",
      "text/plain": [
       "<Figure size 640x480 with 1 Axes>"
      ]
     },
     "metadata": {},
     "output_type": "display_data"
    }
   ],
   "source": [
    "data.area3.hist(bins=20)"
   ]
  },
  {
   "cell_type": "code",
   "execution_count": 14,
   "metadata": {},
   "outputs": [
    {
     "data": {
      "text/plain": [
       "array([[1.],\n",
       "       [1.],\n",
       "       [1.],\n",
       "       [1.],\n",
       "       [1.]])"
      ]
     },
     "execution_count": 14,
     "metadata": {},
     "output_type": "execute_result"
    }
   ],
   "source": [
    "from sklearn.preprocessing import KBinsDiscretizer\n",
    "\n",
    "est = KBinsDiscretizer(\n",
    "    n_bins=5, encode='ordinal', strategy='uniform', subsample=None\n",
    ")\n",
    "est.fit(data.area3.values.reshape(-1, 1))\n",
    "Xt = est.transform(data.area3.values.reshape(-1, 1))\n",
    "Xt[:5]"
   ]
  },
  {
   "cell_type": "code",
   "execution_count": 15,
   "metadata": {},
   "outputs": [],
   "source": [
    "data['area3_bins'] = est.transform(data.area3.values.reshape(-1, 1))"
   ]
  },
  {
   "cell_type": "code",
   "execution_count": 16,
   "metadata": {},
   "outputs": [
    {
     "data": {
      "text/html": [
       "<div>\n",
       "<style scoped>\n",
       "    .dataframe tbody tr th:only-of-type {\n",
       "        vertical-align: middle;\n",
       "    }\n",
       "\n",
       "    .dataframe tbody tr th {\n",
       "        vertical-align: top;\n",
       "    }\n",
       "\n",
       "    .dataframe thead th {\n",
       "        text-align: right;\n",
       "    }\n",
       "</style>\n",
       "<table border=\"1\" class=\"dataframe\">\n",
       "  <thead>\n",
       "    <tr style=\"text-align: right;\">\n",
       "      <th></th>\n",
       "      <th>rooms</th>\n",
       "      <th>area1</th>\n",
       "      <th>area3</th>\n",
       "      <th>district</th>\n",
       "      <th>floor</th>\n",
       "      <th>total_floors</th>\n",
       "      <th>building_type</th>\n",
       "      <th>year</th>\n",
       "      <th>price</th>\n",
       "      <th>rooms_count</th>\n",
       "      <th>no_first_no_last</th>\n",
       "      <th>area3_bins</th>\n",
       "    </tr>\n",
       "  </thead>\n",
       "  <tbody>\n",
       "    <tr>\n",
       "      <th>1</th>\n",
       "      <td>2</td>\n",
       "      <td>44.0</td>\n",
       "      <td>6.0</td>\n",
       "      <td>Автозаводский район</td>\n",
       "      <td>4</td>\n",
       "      <td>4</td>\n",
       "      <td>кирпич</td>\n",
       "      <td>1961.0</td>\n",
       "      <td>4900000</td>\n",
       "      <td>2.0</td>\n",
       "      <td>False</td>\n",
       "      <td>1.0</td>\n",
       "    </tr>\n",
       "    <tr>\n",
       "      <th>2</th>\n",
       "      <td>2</td>\n",
       "      <td>32.0</td>\n",
       "      <td>6.8</td>\n",
       "      <td>Советский район</td>\n",
       "      <td>1</td>\n",
       "      <td>3</td>\n",
       "      <td>кирпич</td>\n",
       "      <td>1958.0</td>\n",
       "      <td>4000000</td>\n",
       "      <td>2.0</td>\n",
       "      <td>False</td>\n",
       "      <td>1.0</td>\n",
       "    </tr>\n",
       "    <tr>\n",
       "      <th>3</th>\n",
       "      <td>2</td>\n",
       "      <td>45.0</td>\n",
       "      <td>6.0</td>\n",
       "      <td>Канавинский район</td>\n",
       "      <td>2</td>\n",
       "      <td>5</td>\n",
       "      <td>кирпич</td>\n",
       "      <td>1972.0</td>\n",
       "      <td>4300000</td>\n",
       "      <td>2.0</td>\n",
       "      <td>True</td>\n",
       "      <td>1.0</td>\n",
       "    </tr>\n",
       "    <tr>\n",
       "      <th>4</th>\n",
       "      <td>1</td>\n",
       "      <td>30.8</td>\n",
       "      <td>5.8</td>\n",
       "      <td>Канавинский район</td>\n",
       "      <td>2</td>\n",
       "      <td>5</td>\n",
       "      <td>кирпич</td>\n",
       "      <td>1965.0</td>\n",
       "      <td>4200000</td>\n",
       "      <td>1.0</td>\n",
       "      <td>True</td>\n",
       "      <td>1.0</td>\n",
       "    </tr>\n",
       "    <tr>\n",
       "      <th>5</th>\n",
       "      <td>2</td>\n",
       "      <td>48.0</td>\n",
       "      <td>9.0</td>\n",
       "      <td>Московский район</td>\n",
       "      <td>5</td>\n",
       "      <td>10</td>\n",
       "      <td>панель</td>\n",
       "      <td>2016.0</td>\n",
       "      <td>7150000</td>\n",
       "      <td>2.0</td>\n",
       "      <td>True</td>\n",
       "      <td>1.0</td>\n",
       "    </tr>\n",
       "  </tbody>\n",
       "</table>\n",
       "</div>"
      ],
      "text/plain": [
       "  rooms  area1  area3             district  floor  total_floors building_type  \\\n",
       "1     2   44.0    6.0  Автозаводский район      4             4        кирпич   \n",
       "2     2   32.0    6.8      Советский район      1             3        кирпич   \n",
       "3     2   45.0    6.0    Канавинский район      2             5        кирпич   \n",
       "4     1   30.8    5.8    Канавинский район      2             5        кирпич   \n",
       "5     2   48.0    9.0     Московский район      5            10        панель   \n",
       "\n",
       "     year    price  rooms_count  no_first_no_last  area3_bins  \n",
       "1  1961.0  4900000          2.0             False         1.0  \n",
       "2  1958.0  4000000          2.0             False         1.0  \n",
       "3  1972.0  4300000          2.0              True         1.0  \n",
       "4  1965.0  4200000          1.0              True         1.0  \n",
       "5  2016.0  7150000          2.0              True         1.0  "
      ]
     },
     "execution_count": 16,
     "metadata": {},
     "output_type": "execute_result"
    }
   ],
   "source": [
    "data.head()"
   ]
  },
  {
   "cell_type": "code",
   "execution_count": 17,
   "metadata": {},
   "outputs": [
    {
     "data": {
      "text/plain": [
       "<Axes: >"
      ]
     },
     "execution_count": 17,
     "metadata": {},
     "output_type": "execute_result"
    },
    {
     "data": {
      "image/png": "[encoded data removed]",
      "text/plain": [
       "<Figure size 640x480 with 1 Axes>"
      ]
     },
     "metadata": {},
     "output_type": "display_data"
    }
   ],
   "source": [
    "data.area3_bins.hist()"
   ]
  },
  {
   "cell_type": "code",
   "execution_count": 18,
   "metadata": {},
   "outputs": [],
   "source": [
    "data.drop(['rooms', 'area3', 'floor', 'total_floors'], axis=1, inplace=True)"
   ]
  },
  {
   "cell_type": "code",
   "execution_count": 19,
   "metadata": {},
   "outputs": [
    {
     "data": {
      "text/plain": [
       "array(['Автозаводский район', 'Советский район', 'Канавинский район',\n",
       "       'Московский район', 'Приокский район', 'дер. Анкудиновка',\n",
       "       'Нижегородский район', 'Сормовский район', 'Ленинский район',\n",
       "       'г. Кстово', 'пос. Ждановский', 'Новинский сельсовет',\n",
       "       'г. Балахна', 'г. Бор', 'г. Арзамас', 'г. Дзержинск',\n",
       "       'г. Богородск', 'рп. Ковернино', 'дер. Афонино', 'пос. Дружный',\n",
       "       'пос. Буревестник', 'г. Городец', 'г. Княгинино'], dtype=object)"
      ]
     },
     "execution_count": 19,
     "metadata": {},
     "output_type": "execute_result"
    }
   ],
   "source": [
    "data.district.unique()"
   ]
  },
  {
   "cell_type": "code",
   "execution_count": 20,
   "metadata": {},
   "outputs": [
    {
     "data": {
      "text/plain": [
       "['Автозаводский район',\n",
       " 'Советский район',\n",
       " 'Канавинский район',\n",
       " 'Московский район',\n",
       " 'Приокский район',\n",
       " 'Нижегородский район',\n",
       " 'Сормовский район',\n",
       " 'Ленинский район']"
      ]
     },
     "execution_count": 20,
     "metadata": {},
     "output_type": "execute_result"
    }
   ],
   "source": [
    "dist = [x for x in data.district.unique() if 'район' in x]\n",
    "dist"
   ]
  },
  {
   "cell_type": "code",
   "execution_count": 21,
   "metadata": {},
   "outputs": [],
   "source": [
    "data.loc[~data.district.isin(dist), 'district'] = 'Другой'"
   ]
  },
  {
   "cell_type": "code",
   "execution_count": 22,
   "metadata": {},
   "outputs": [
    {
     "data": {
      "text/plain": [
       "district\n",
       "Другой                 87\n",
       "Автозаводский район    81\n",
       "Советский район        41\n",
       "Канавинский район      36\n",
       "Нижегородский район    36\n",
       "Сормовский район       33\n",
       "Ленинский район        29\n",
       "Московский район       27\n",
       "Приокский район        24\n",
       "Name: count, dtype: int64"
      ]
     },
     "execution_count": 22,
     "metadata": {},
     "output_type": "execute_result"
    }
   ],
   "source": [
    "data.district.value_counts()"
   ]
  },
  {
   "cell_type": "code",
   "execution_count": 23,
   "metadata": {},
   "outputs": [
    {
     "data": {
      "text/html": [
       "<div>\n",
       "<style scoped>\n",
       "    .dataframe tbody tr th:only-of-type {\n",
       "        vertical-align: middle;\n",
       "    }\n",
       "\n",
       "    .dataframe tbody tr th {\n",
       "        vertical-align: top;\n",
       "    }\n",
       "\n",
       "    .dataframe thead th {\n",
       "        text-align: right;\n",
       "    }\n",
       "</style>\n",
       "<table border=\"1\" class=\"dataframe\">\n",
       "  <thead>\n",
       "    <tr style=\"text-align: right;\">\n",
       "      <th></th>\n",
       "      <th>area1</th>\n",
       "      <th>district</th>\n",
       "      <th>building_type</th>\n",
       "      <th>year</th>\n",
       "      <th>price</th>\n",
       "      <th>rooms_count</th>\n",
       "      <th>no_first_no_last</th>\n",
       "      <th>area3_bins</th>\n",
       "    </tr>\n",
       "  </thead>\n",
       "  <tbody>\n",
       "    <tr>\n",
       "      <th>1</th>\n",
       "      <td>44.0</td>\n",
       "      <td>Автозаводский район</td>\n",
       "      <td>кирпич</td>\n",
       "      <td>1961.0</td>\n",
       "      <td>4900000</td>\n",
       "      <td>2.0</td>\n",
       "      <td>False</td>\n",
       "      <td>1.0</td>\n",
       "    </tr>\n",
       "    <tr>\n",
       "      <th>2</th>\n",
       "      <td>32.0</td>\n",
       "      <td>Советский район</td>\n",
       "      <td>кирпич</td>\n",
       "      <td>1958.0</td>\n",
       "      <td>4000000</td>\n",
       "      <td>2.0</td>\n",
       "      <td>False</td>\n",
       "      <td>1.0</td>\n",
       "    </tr>\n",
       "    <tr>\n",
       "      <th>3</th>\n",
       "      <td>45.0</td>\n",
       "      <td>Канавинский район</td>\n",
       "      <td>кирпич</td>\n",
       "      <td>1972.0</td>\n",
       "      <td>4300000</td>\n",
       "      <td>2.0</td>\n",
       "      <td>True</td>\n",
       "      <td>1.0</td>\n",
       "    </tr>\n",
       "    <tr>\n",
       "      <th>4</th>\n",
       "      <td>30.8</td>\n",
       "      <td>Канавинский район</td>\n",
       "      <td>кирпич</td>\n",
       "      <td>1965.0</td>\n",
       "      <td>4200000</td>\n",
       "      <td>1.0</td>\n",
       "      <td>True</td>\n",
       "      <td>1.0</td>\n",
       "    </tr>\n",
       "    <tr>\n",
       "      <th>5</th>\n",
       "      <td>48.0</td>\n",
       "      <td>Московский район</td>\n",
       "      <td>панель</td>\n",
       "      <td>2016.0</td>\n",
       "      <td>7150000</td>\n",
       "      <td>2.0</td>\n",
       "      <td>True</td>\n",
       "      <td>1.0</td>\n",
       "    </tr>\n",
       "    <tr>\n",
       "      <th>6</th>\n",
       "      <td>28.0</td>\n",
       "      <td>Приокский район</td>\n",
       "      <td>кирпич</td>\n",
       "      <td>1959.0</td>\n",
       "      <td>2900000</td>\n",
       "      <td>1.0</td>\n",
       "      <td>False</td>\n",
       "      <td>1.0</td>\n",
       "    </tr>\n",
       "    <tr>\n",
       "      <th>7</th>\n",
       "      <td>12.7</td>\n",
       "      <td>Автозаводский район</td>\n",
       "      <td>панель</td>\n",
       "      <td>1978.0</td>\n",
       "      <td>2315000</td>\n",
       "      <td>0.8</td>\n",
       "      <td>False</td>\n",
       "      <td>0.0</td>\n",
       "    </tr>\n",
       "    <tr>\n",
       "      <th>8</th>\n",
       "      <td>27.6</td>\n",
       "      <td>Другой</td>\n",
       "      <td>панель</td>\n",
       "      <td>2021.0</td>\n",
       "      <td>4330000</td>\n",
       "      <td>1.0</td>\n",
       "      <td>True</td>\n",
       "      <td>0.0</td>\n",
       "    </tr>\n",
       "    <tr>\n",
       "      <th>9</th>\n",
       "      <td>44.8</td>\n",
       "      <td>Нижегородский район</td>\n",
       "      <td>кирпич</td>\n",
       "      <td>1971.0</td>\n",
       "      <td>6500000</td>\n",
       "      <td>2.0</td>\n",
       "      <td>False</td>\n",
       "      <td>1.0</td>\n",
       "    </tr>\n",
       "    <tr>\n",
       "      <th>10</th>\n",
       "      <td>59.1</td>\n",
       "      <td>Автозаводский район</td>\n",
       "      <td>панель</td>\n",
       "      <td>1963.0</td>\n",
       "      <td>6150000</td>\n",
       "      <td>3.0</td>\n",
       "      <td>False</td>\n",
       "      <td>1.0</td>\n",
       "    </tr>\n",
       "    <tr>\n",
       "      <th>11</th>\n",
       "      <td>39.4</td>\n",
       "      <td>Сормовский район</td>\n",
       "      <td>шлакоблок</td>\n",
       "      <td>1959.0</td>\n",
       "      <td>3099000</td>\n",
       "      <td>2.0</td>\n",
       "      <td>False</td>\n",
       "      <td>0.0</td>\n",
       "    </tr>\n",
       "    <tr>\n",
       "      <th>12</th>\n",
       "      <td>74.5</td>\n",
       "      <td>Приокский район</td>\n",
       "      <td>кирпич</td>\n",
       "      <td>1986.0</td>\n",
       "      <td>7700000</td>\n",
       "      <td>4.0</td>\n",
       "      <td>False</td>\n",
       "      <td>1.0</td>\n",
       "    </tr>\n",
       "    <tr>\n",
       "      <th>13</th>\n",
       "      <td>83.0</td>\n",
       "      <td>Автозаводский район</td>\n",
       "      <td>кирпич</td>\n",
       "      <td>1958.0</td>\n",
       "      <td>9300000</td>\n",
       "      <td>3.0</td>\n",
       "      <td>True</td>\n",
       "      <td>1.0</td>\n",
       "    </tr>\n",
       "    <tr>\n",
       "      <th>14</th>\n",
       "      <td>32.0</td>\n",
       "      <td>Советский район</td>\n",
       "      <td>кирпич</td>\n",
       "      <td>1958.0</td>\n",
       "      <td>4199999</td>\n",
       "      <td>2.0</td>\n",
       "      <td>False</td>\n",
       "      <td>1.0</td>\n",
       "    </tr>\n",
       "    <tr>\n",
       "      <th>17</th>\n",
       "      <td>47.5</td>\n",
       "      <td>Автозаводский район</td>\n",
       "      <td>панель</td>\n",
       "      <td>2019.0</td>\n",
       "      <td>6990000</td>\n",
       "      <td>2.0</td>\n",
       "      <td>True</td>\n",
       "      <td>2.0</td>\n",
       "    </tr>\n",
       "  </tbody>\n",
       "</table>\n",
       "</div>"
      ],
      "text/plain": [
       "    area1             district building_type    year    price  rooms_count  \\\n",
       "1    44.0  Автозаводский район        кирпич  1961.0  4900000          2.0   \n",
       "2    32.0      Советский район        кирпич  1958.0  4000000          2.0   \n",
       "3    45.0    Канавинский район        кирпич  1972.0  4300000          2.0   \n",
       "4    30.8    Канавинский район        кирпич  1965.0  4200000          1.0   \n",
       "5    48.0     Московский район        панель  2016.0  7150000          2.0   \n",
       "6    28.0      Приокский район        кирпич  1959.0  2900000          1.0   \n",
       "7    12.7  Автозаводский район        панель  1978.0  2315000          0.8   \n",
       "8    27.6               Другой        панель  2021.0  4330000          1.0   \n",
       "9    44.8  Нижегородский район        кирпич  1971.0  6500000          2.0   \n",
       "10   59.1  Автозаводский район        панель  1963.0  6150000          3.0   \n",
       "11   39.4     Сормовский район     шлакоблок  1959.0  3099000          2.0   \n",
       "12   74.5      Приокский район        кирпич  1986.0  7700000          4.0   \n",
       "13   83.0  Автозаводский район        кирпич  1958.0  9300000          3.0   \n",
       "14   32.0      Советский район        кирпич  1958.0  4199999          2.0   \n",
       "17   47.5  Автозаводский район        панель  2019.0  6990000          2.0   \n",
       "\n",
       "    no_first_no_last  area3_bins  \n",
       "1              False         1.0  \n",
       "2              False         1.0  \n",
       "3               True         1.0  \n",
       "4               True         1.0  \n",
       "5               True         1.0  \n",
       "6              False         1.0  \n",
       "7              False         0.0  \n",
       "8               True         0.0  \n",
       "9              False         1.0  \n",
       "10             False         1.0  \n",
       "11             False         0.0  \n",
       "12             False         1.0  \n",
       "13              True         1.0  \n",
       "14             False         1.0  \n",
       "17              True         2.0  "
      ]
     },
     "execution_count": 23,
     "metadata": {},
     "output_type": "execute_result"
    }
   ],
   "source": [
    "data.head(15)"
   ]
  },
  {
   "cell_type": "code",
   "execution_count": 26,
   "metadata": {},
   "outputs": [],
   "source": [
    "data.to_csv('data/nnapartment_more_info_min.csv',index=False)"
   ]
  },
  {
   "cell_type": "markdown",
   "metadata": {},
   "source": [
    "**Задание** Использовать полученный набор данных для обучения pipeline состоящего из этапов, трансформации данных, конструирования признаков, выбора признаков (понижения размерности)."
   ]
  },
  {
   "cell_type": "markdown",
   "metadata": {},
   "source": [
    "Задание\n",
    "\n",
    "1. Аккаунт на github\n",
    "2. Повторить тему окружения (venv)"
   ]
  }
 ],
 "metadata": {
  "kernelspec": {
   "display_name": "Python 3 (ipykernel)",
   "language": "python",
   "name": "python3"
  },
  "language_info": {
   "codemirror_mode": {
    "name": "ipython",
    "version": 3
   },
   "file_extension": ".py",
   "mimetype": "text/x-python",
   "name": "python",
   "nbconvert_exporter": "python",
   "pygments_lexer": "ipython3",
   "version": "3.11.7"
  }
 },
 "nbformat": 4,
 "nbformat_minor": 4
}
